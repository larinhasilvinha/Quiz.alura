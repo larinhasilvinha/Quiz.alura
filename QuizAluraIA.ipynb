{
  "nbformat": 4,
  "nbformat_minor": 0,
  "metadata": {
    "colab": {
      "provenance": [],
      "authorship_tag": "ABX9TyNKKAWDRl3l5EErkYGTOnqy",
      "include_colab_link": true
    },
    "kernelspec": {
      "name": "python3",
      "display_name": "Python 3"
    },
    "language_info": {
      "name": "python"
    }
  },
  "cells": [
    {
      "cell_type": "markdown",
      "metadata": {
        "id": "view-in-github",
        "colab_type": "text"
      },
      "source": [
        "<a href=\"https://colab.research.google.com/github/larinhasilvinha/Quiz.alura/blob/main/QuizAluraIA.ipynb\" target=\"_parent\"><img src=\"https://colab.research.google.com/assets/colab-badge.svg\" alt=\"Open In Colab\"/></a>"
      ]
    },
    {
      "cell_type": "markdown",
      "source": [
        "INSTALANDO O GOOGLE GEMINI"
      ],
      "metadata": {
        "id": "UHZx3l8J3XPJ"
      }
    },
    {
      "cell_type": "code",
      "execution_count": null,
      "metadata": {
        "colab": {
          "base_uri": "https://localhost:8080/"
        },
        "id": "wbAh8gJlwUjg",
        "outputId": "e4f49caf-21b1-42e7-d5c1-4120c68d0ef8"
      },
      "outputs": [
        {
          "output_type": "stream",
          "name": "stdout",
          "text": [
            "\n",
            "Usage:   \n",
            "  pip3 install [options] <requirement specifier> [package-index-options] ...\n",
            "  pip3 install [options] -r <requirements file> [package-index-options] ...\n",
            "  pip3 install [options] [-e] <vcs project url> ...\n",
            "  pip3 install [options] [-e] <local project path> ...\n",
            "  pip3 install [options] <archive url/path> ...\n",
            "\n",
            "no such option: -u\n"
          ]
        }
      ],
      "source": [
        "!pip install -q -u google-generativeai"
      ]
    },
    {
      "cell_type": "markdown",
      "source": [
        "IMPORTANDO PARA O PYTHON"
      ],
      "metadata": {
        "id": "JEbQdjVM3hck"
      }
    },
    {
      "cell_type": "code",
      "source": [
        "# import the Python SDK\n",
        "import google.generativeai as genai\n",
        "from google.colab import userdata\n",
        "\n",
        "GOOGLE_API_KEY= userdata.get('SECRET_KEY')\n",
        "genai.configure(api_key=GOOGLE_API_KEY)"
      ],
      "metadata": {
        "id": "XnXs0Rqpw-qe"
      },
      "execution_count": null,
      "outputs": []
    },
    {
      "cell_type": "code",
      "source": [
        "model = genai.GenerativeModel('gemini-pro')"
      ],
      "metadata": {
        "id": "7vsqm2j7xJVo"
      },
      "execution_count": null,
      "outputs": []
    },
    {
      "cell_type": "markdown",
      "source": [
        "TESTANDO O GEMINI 1.0"
      ],
      "metadata": {
        "id": "FMuLQwQU3nMC"
      }
    },
    {
      "cell_type": "code",
      "source": [
        "response = model.generate_content(\"Me pergunte o que quiser, que responderei!. Aqui tirarei suas dúvidas.\")\n",
        "print (response.text)"
      ],
      "metadata": {
        "colab": {
          "base_uri": "https://localhost:8080/",
          "height": 35
        },
        "id": "fnEYQ4wbxOBn",
        "outputId": "dc66a7ee-83e0-4312-9a4a-ad9e7ff6c52d"
      },
      "execution_count": null,
      "outputs": [
        {
          "output_type": "stream",
          "name": "stdout",
          "text": [
            "**Pergunta-me qualquer coisa que queiras saber e eu responderei!**\n"
          ]
        }
      ]
    },
    {
      "cell_type": "markdown",
      "source": [
        "TODOS OS MODELOS DO GEMINI"
      ],
      "metadata": {
        "id": "kovc4LGm30Uf"
      }
    },
    {
      "cell_type": "code",
      "source": [
        "for m in genai.list_models():\n",
        "  if 'generateContent' in m.supported_generation_methods:\n",
        "    print(m.name)"
      ],
      "metadata": {
        "colab": {
          "base_uri": "https://localhost:8080/",
          "height": 146
        },
        "id": "a50oUTvWxSWY",
        "outputId": "ac00f6ce-83d0-4f9e-cce9-acf6ed13e101"
      },
      "execution_count": null,
      "outputs": [
        {
          "output_type": "stream",
          "name": "stdout",
          "text": [
            "models/gemini-1.0-pro\n",
            "models/gemini-1.0-pro-001\n",
            "models/gemini-1.0-pro-latest\n",
            "models/gemini-1.0-pro-vision-latest\n",
            "models/gemini-1.5-pro-latest\n",
            "models/gemini-pro\n",
            "models/gemini-pro-vision\n"
          ]
        }
      ]
    },
    {
      "cell_type": "markdown",
      "source": [
        "# INICIALIZANDO O MODELO"
      ],
      "metadata": {
        "id": "U0Lx4S5SxwfH"
      }
    },
    {
      "cell_type": "code",
      "source": [
        "# Check the model name\n",
        "model_name = \"gemini-i.0-pro\"\n",
        "print(f\"Model name: {model_name}\")\n",
        "\n",
        "# Check the API version\n",
        "api_version = \"v1beta\"\n",
        "print(f\"API version: {api_version}\")\n",
        "\n",
        "# Check the user's access permissions\n",
        "!gcloud auth list"
      ],
      "metadata": {
        "colab": {
          "base_uri": "https://localhost:8080/"
        },
        "id": "fZDg_-sWxWIm",
        "outputId": "982419ed-6b44-4638-c426-52320bb87cd5"
      },
      "execution_count": null,
      "outputs": [
        {
          "output_type": "stream",
          "name": "stdout",
          "text": [
            "Model name: gemini-i.0-pro\n",
            "API version: v1beta\n",
            "\n",
            "No credentialed accounts.\n",
            "\n",
            "To login, run:\n",
            "  $ gcloud auth login `ACCOUNT`\n",
            "\n"
          ]
        }
      ]
    },
    {
      "cell_type": "markdown",
      "source": [
        "# Quiz Alura\n",
        "\n",
        "## E AQUI ESTÁ A TENTATIVA DE UM QUIZ. COM ALGUMAS PERGUNTINHAS PARA TESTAR OS CONHECIMENTOS ADQUIRIDOS NAS AULAS. A CADA ACERTO, VC TERÁ UMA PORCENTAGEM DE ACERTOS E ERROS, OU MAIS APROXIMADO DA RESPOSTA ORIGINAL. SERÃO 10 PERGUNTAS, COM ASSUNTOS RELACIONADOS ÀS AULAS E IA. CADA UMA DELAS, VALENDO ATÉ 2 PONTOS.  \n",
        "\n",
        "# COMEÇEM OS JOGOS!!!!"
      ],
      "metadata": {
        "id": "JvunbMdNxf0v"
      }
    },
    {
      "cell_type": "code",
      "source": [
        "import random\n",
        "from difflib import SequenceMatcher\n",
        "\n",
        "def calcular_pontuacao(similaridade):\n",
        "    if similaridade >= 90:\n",
        "        return 2\n",
        "    elif similaridade >= 80:\n",
        "        return 1.5\n",
        "    elif similaridade >= 70:\n",
        "        return 1\n",
        "    else:\n",
        "        return 0\n",
        "\n",
        "def main():\n",
        "    # Inicializar variáveis\n",
        "    pontuacao_total = 0\n",
        "\n",
        "    # Perguntas e respostas\n",
        "    perguntas = {\n",
        "         1: {\n",
        "            \"pergunta\": \"Qual é a sigla para Inteligência Artificial?\",\n",
        "            \"resposta_correta\": \"IA\",\n",
        "            \"mensagens_incorretas\": [\"Ops, parece que você não acertou dessa vez. Tente novamente!\", \"Hmm, não é bem essa resposta. Mais uma tentativa?\"],\n",
        "            \"mensagem_correta\": \"Carambolas! Você está mandando bem nesse curso!\"\n",
        "     },\n",
        "        2: {\n",
        "            \"pergunta\": \"Qual o principal objetivo da Inteligência Artificial?\",\n",
        "            \"resposta_correta\": \"Simular a inteligência humana\",\n",
        "            \"mensagens_incorretas\": [\"Ops, essa não é a resposta correta. Tente novamente!\", \"Mais uma tentativa! Será que você consegue acertar dessa vez?\"],\n",
        "            \"mensagem_correta\": \"Parabéns! Você está no caminho certo!\"\n",
        "    },\n",
        "      3: {\n",
        "             \"pergunta\": \"Qual foi a palavra escondida, fora de contexto dita pelo Fabrício?\",\n",
        "            \"resposta_correta\": \"Espaguete a bolonhesa\",\n",
        "            \"mensagens_incorretas\": [\"Ops, essa não é a resposta correta. Tente novamente!\", \"TENTA DE NOVO! Será que você consegue acertar dessa vez?\"],\n",
        "            \"mensagem_correta\": \"Parabéns! Você prestou muita atenção hein!\"\n",
        "   },\n",
        "        4: {\n",
        "            \"pergunta\": \"Qual é a função dos prompts?\",\n",
        "            \"resposta_correta\": \"Fazer um comando ou um pedido\",\n",
        "            \"mensagens_incorretas\": [\"Ops, parece que você não acertou dessa vez. Tente novamente!\", \"VIXI, não é bem essa resposta. Mais uma tentativa?\"],\n",
        "            \"mensagem_correta\": \"ARRASOU!\"\n",
        "    },\n",
        "        5: {\n",
        "            \"pergunta\": \"o que são os GRAFO\",\n",
        "            \"resposta_correta\": \"Os grafos, são links de estruturas que podem existir ou não.\",\n",
        "            \"mensagens_incorretas\": [\"Ops, parece que você não acertou dessa vez. Tente novamente!\", \"Continua tentando ae parceiro... não é bem essa resposta. Mais uma tentativa?\"],\n",
        "            \"mensagem_correta\": \"MANDOU VÊ\"\n",
        "    },\n",
        "        6: {\n",
        "            \"pergunta\": \"Quais são as 4 camadas do gemini?\",\n",
        "            \"resposta_correta\": \"Engenharia de prompt, parâmetros de execução, configurações do sistema de segurança e redução intrínseca do modelo para informações inventadas ou alucinadas.\",\n",
        "            \"mensagens_incorretas\": [\"Ops, parece que você não acertou dessa vez. Tente novamente!\", \"É difícil mesmo, calma. Mais uma tentativa?\"],\n",
        "            \"mensagem_correta\": \"Tá sabendo muito hein, gostei de vẽ!\"\n",
        "     },\n",
        "        7: {\n",
        "            \"pergunta\": \"O que é chave API?\",\n",
        "            \"resposta_correta\": \"É uma sequência alfanumérica que os desenvolvedores de API usam para controlar o acesso às suas APIs. ELA É SOMENTE SUA, NÃO À COMPARTILHE COM NINGUÉM!\",\n",
        "            \"mensagens_incorretas\": [\"Ops, parece que você não acertou dessa vez. Tente novamente!\", \"TÁ SAINDO, quase lá. Mais uma tentativa?\"],\n",
        "            \"mensagem_correta\": \"Entendeu o recado né???\"\n",
        "    },\n",
        "        8:{\n",
        "            \"pergunta\": \"Qual a principal diferença entre o gemini 1.0 pro e o gemini 1.5?\",\n",
        "            \"resposta_correta\": \"O gemini 1.0 é um modelo mais básico, contendo customização de parâmetros. Já o 1.5, tem mais capacidade de contexto e informação, podendo não ter customização de parâmetros.\",\n",
        "            \"mensagens_incorretas\": [\"Ops, parece que você não acertou dessa vez. Tente novamente!\", \"Essa é difícil mesmo, eu sei. Mais uma tentativa?\"],\n",
        "            \"mensagem_correta\": \"CARACA, CERTINHO\"\n",
        "    },\n",
        "        9: {\n",
        "            \"pergunta\": \"O que é PLN?\",\n",
        "            \"resposta_correta\": \"Processamento de Linguagem Natural\",\n",
        "            \"mensagens_incorretas\": [\"Ops, parece que você não acertou dessa vez. Tente novamente!\", \"Pensa com carinho, não é bem essa resposta. Mais uma tentativa?\"],\n",
        "            \"mensagem_correta\": \"TU ARRASA!\"\n",
        "     },\n",
        "        10: {\n",
        "            \"pergunta\": \"O que são PANDAS?\",\n",
        "            \"resposta_correta\": \"Database para acessar e armazenar dados.\",\n",
        "            \"mensagens_incorretas\": [\"Ops, parece que você não acertou dessa vez. Tente novamente!\", \"Olha, não é bem essa resposta. Mais uma tentativa?\"],\n",
        "            \"mensagem_correta\": \"VOCÊ GABARITOU, VOCÊ É FERA DEMAIS!!!!!!!!!\"\n",
        "     }\n",
        "    }\n",
        "\n",
        "    # Percorrer as perguntas\n",
        "    for numero_pergunta_atual, dados_pergunta in perguntas.items():\n",
        "        pergunta = dados_pergunta[\"pergunta\"]\n",
        "        resposta_correta = dados_pergunta[\"resposta_correta\"]\n",
        "        mensagens_incorretas = dados_pergunta[\"mensagens_incorretas\"]\n",
        "        mensagem_correta = dados_pergunta[\"mensagem_correta\"]\n",
        "\n",
        "        print(f\"\\nPergunta {numero_pergunta_atual}: {pergunta}\")\n",
        "\n",
        "        # Loop para as tentativas\n",
        "        pontuacao_pergunta = 0\n",
        "        for tentativa in range(1, 4):  # Três tentativas\n",
        "            print(f\"Tentativa {tentativa}:\")\n",
        "            resposta_jogador = input(\"Sua resposta: \")\n",
        "\n",
        "            # Calcular similaridade com difflib\n",
        "            matcher = SequenceMatcher(None, resposta_correta.lower(), resposta_jogador.lower())\n",
        "            ratio = matcher.ratio() * 100  # Converter em porcentagem\n",
        "\n",
        "            # Pontuação com base na similaridade\n",
        "            pontuacao_pergunta += calcular_pontuacao(ratio)\n",
        "\n",
        "            if ratio >= 70:\n",
        "                print(mensagem_correta)\n",
        "                break  # Sai do loop de tentativas se acertou\n",
        "            else:\n",
        "                # Resposta incorreta\n",
        "                print(f\"{mensagens_incorretas[tentativa - 1]} Sua resposta teve {ratio:.2f}% de similaridade com a resposta correta.\")\n",
        "\n",
        "        # Adicionar pontuação da pergunta à pontuação total\n",
        "        pontuacao_total += pontuacao_pergunta\n",
        "\n",
        "    # Apresentar resultado final\n",
        "    print(f\"\\n\\nPontuação final: {pontuacao_total}/{len(perguntas) * 2}\")  # Cada pergunta pode valer até 2 pontos\n",
        "\n",
        "if __name__ == \"__main__\":\n",
        "    main()\n"
      ],
      "metadata": {
        "colab": {
          "base_uri": "https://localhost:8080/"
        },
        "id": "Wm5-h0C3xp3i",
        "outputId": "28f40a7b-27d3-4bdf-d071-5dd43378cc2c"
      },
      "execution_count": null,
      "outputs": [
        {
          "output_type": "stream",
          "name": "stdout",
          "text": [
            "\n",
            "Pergunta 1: Qual é a sigla para Inteligência Artificial?\n",
            "Tentativa 1:\n",
            "Sua resposta: ia\n",
            "Carambolas! Você está mandando bem nesse curso!\n",
            "\n",
            "Pergunta 2: Qual o principal objetivo da Inteligência Artificial?\n",
            "Tentativa 1:\n",
            "Sua resposta: Simular a inteligência humana\n",
            "Parabéns! Você está no caminho certo!\n",
            "\n",
            "Pergunta 3: Qual foi a palavra escondida, fora de contexto dita pelo Fabrício?\n",
            "Tentativa 1:\n",
            "Sua resposta: Espaguete a bolonhesa\n",
            "Parabéns! Você prestou muita atenção hein!\n",
            "\n",
            "Pergunta 4: Qual é a função dos prompts?\n",
            "Tentativa 1:\n",
            "Sua resposta: Fazer um comando ou um pedido\n",
            "ARRASOU!\n",
            "\n",
            "Pergunta 5: o que são os GRAFO\n",
            "Tentativa 1:\n",
            "Sua resposta: Os grafos, são links de estruturas que podem existir ou não.\n",
            "MANDOU VÊ\n",
            "\n",
            "Pergunta 6: Quais são as 4 camadas do gemini?\n",
            "Tentativa 1:\n",
            "Sua resposta: Engenharia de prompt, parâmetros de execução, configurações do sistema de segurança e redução intrínseca do modelo para informações inventadas ou alucinadas\n",
            "Tá sabendo muito hein, gostei de vẽ!\n",
            "\n",
            "Pergunta 7: O que é chave API?\n",
            "Tentativa 1:\n",
            "Sua resposta: O gemini 1.0 é um modelo mais básico, contendo customização de parâmetros. Já o 1.5, tem mais capacidade de contexto e informação, podendo não ter customização de parâmetros.\n",
            "Ops, parece que você não acertou dessa vez. Tente novamente! Sua resposta teve 27.08% de similaridade com a resposta correta.\n",
            "Tentativa 2:\n",
            "Sua resposta: É uma sequência alfanumérica que os desenvolvedores de API usam para controlar o acesso às suas APIs. ELA É SOMENTE SUA, NÃO À COMPARTILHE COM NINGUÉM!\n",
            "Entendeu o recado né???\n",
            "\n",
            "Pergunta 8: Qual a principal difenrença entre o gemini 1.0 pro e o gemini 1.5?\n",
            "Tentativa 1:\n",
            "Sua resposta: O gemini 1.0 é um modelo mais básico, contendo customização de parâmetros. Já o 1.5, tem mais capacidade de contexto e informação, podendo não ter customização de parâmetros.\n",
            "CARACA, CERTINHO\n",
            "\n",
            "Pergunta 9: O que é PLN?\n",
            "Tentativa 1:\n",
            "Sua resposta: Processamento de Linguagem Natural\n",
            "TU ARRASA!\n",
            "\n",
            "Pergunta 10: O que são PANDAS?\n",
            "Tentativa 1:\n",
            "Sua resposta: Database para acessar e armazenar dados.\n",
            "VOCÊ GABARITOU, VOCÊ É FERA DEMAIS!!!!!!!!!\n",
            "\n",
            "\n",
            "Pontuação final: 20/20\n"
          ]
        }
      ]
    }
  ]
}